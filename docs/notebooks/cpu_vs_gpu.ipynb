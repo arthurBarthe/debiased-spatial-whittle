{
 "cells": [
  {
   "cell_type": "markdown",
   "id": "31028ca2-8b9f-43bd-8204-1890f2b0b210",
   "metadata": {},
   "source": [
    "# CPU vs GPU backend\n",
    "\n",
    "In this notebook, we compare the use of CPU versus GPU backend in terms of computational efficiency. Note that to be able to run the notebook with GPU backend, you will need an NVIDIA GPU and having followed the installation instructions specific to GPU."
   ]
  },
  {
   "cell_type": "code",
   "execution_count": 1,
   "id": "d7888211-1688-40ac-9b64-505f3b618553",
   "metadata": {},
   "outputs": [],
   "source": [
    "%matplotlib notebook"
   ]
  },
  {
   "cell_type": "code",
   "execution_count": 2,
   "id": "d9f7f056-6514-45dc-94ae-7de2ebe55d13",
   "metadata": {},
   "outputs": [],
   "source": [
    "DEVICE = \"cpu\"\n",
    "\n",
    "if DEVICE == \"cpu\":\n",
    "    BACKEND = \"numpy\"\n",
    "elif DEVICE == \"gpu\":\n",
    "    BACKEND = \"cupy\""
   ]
  },
  {
   "cell_type": "code",
   "execution_count": 6,
   "id": "d66c45cb-6451-4f56-9f1a-3a723780f7af",
   "metadata": {},
   "outputs": [],
   "source": [
    "from debiased_spatial_whittle.backend import BackendManager\n",
    "\n",
    "BackendManager.set_backend(BACKEND)\n",
    "\n",
    "xp = BackendManager.get_backend()\n",
    "\n",
    "\n",
    "import matplotlib.pyplot as plt\n",
    "\n",
    "import debiased_spatial_whittle.grids as grids\n",
    "from debiased_spatial_whittle.models import ExponentialModel, SquaredExponentialModel\n",
    "from debiased_spatial_whittle.grids import RectangularGrid\n",
    "from debiased_spatial_whittle.simulation import SamplerOnRectangularGrid\n",
    "from debiased_spatial_whittle.samples import SampleOnRectangularGrid\n",
    "from debiased_spatial_whittle.periodogram import Periodogram, ExpectedPeriodogram\n",
    "from debiased_spatial_whittle.likelihood import Estimator, DebiasedWhittle\n",
    "\n",
    "\n",
    "model = ExponentialModel(rho=5, sigma=1)\n",
    "\n",
    "\n",
    "grid = RectangularGrid((512, 512))\n",
    "sampler = SamplerOnRectangularGrid(model, grid)\n",
    "sampler.n_sims = 50\n",
    "\n",
    "\n",
    "def taper(shape):\n",
    "    m, n = shape\n",
    "    return np.ones((m, n))\n",
    "\n",
    "\n",
    "periodogram = Periodogram()\n",
    "periodogram.taper = taper\n",
    "expected_periodogram = ExpectedPeriodogram(grid, periodogram)\n",
    "debiased_whittle = DebiasedWhittle(periodogram, expected_periodogram)\n",
    "options = dict(ftol=1e-10, gtol=1e-25)\n",
    "estimator = Estimator(debiased_whittle, use_gradients=False, optim_options=options)"
   ]
  },
  {
   "cell_type": "code",
   "execution_count": 3,
   "id": "ab621cc5-1926-4eb4-abde-533783ccd2d8",
   "metadata": {},
   "outputs": [
    {
     "data": {
      "text/html": [
       "<style>\n",
       "        .param-doc-tooltip{\n",
       "          position: relative;\n",
       "          cursor: help;\n",
       "        }\n",
       "        .param-doc-tooltip:hover:after{\n",
       "          content: attr(data-tooltip);\n",
       "          background-color: black;\n",
       "          color: #fff;\n",
       "          border-radius: 3px;\n",
       "          padding: 10px;\n",
       "          position: absolute;\n",
       "          z-index: 1;\n",
       "          top: -5px;\n",
       "          left: 100%;\n",
       "          margin-left: 10px;\n",
       "          min-width: 250px;\n",
       "        }\n",
       "        .param-doc-tooltip:hover:before {\n",
       "          content: \"\";\n",
       "          position: absolute;\n",
       "          top: 50%;\n",
       "          left: 100%;\n",
       "          margin-top: -5px;\n",
       "          border-width: 5px;\n",
       "          border-style: solid;\n",
       "          border-color: transparent black transparent transparent;\n",
       "        }\n",
       "        </style>\n",
       "<details  open>\n",
       " <summary style=\"display:list-item; outline:none;\">\n",
       "  <tt>ExponentialModel()</tt>\n",
       " </summary>\n",
       " <div style=\"padding-left:10px; padding-bottom:5px;\">\n",
       "  <table style=\"max-width:100%; border:1px solid #AAAAAA;\">\n",
       "   <tr><th style=\"text-align:left;\">Name</th><th style=\"text-align:left;\">Value</th><th style=\"text-align:left;\">Type</th><th>Range</th></tr>\n",
       "<tr>  <td><p style=\"margin-bottom: 0px;\" class=\"param-doc-tooltip\" data-tooltip=\"Range parameter\">rho</p></td>  <td style=\"max-width: 200px; text-align:left;\">5</td>  <td style=\"text-align:left;\">ModelParameter</td>  <td style=\"max-width: 300px;\">(0, inf)</td></tr>\n",
       "<tr>  <td><p style=\"margin-bottom: 0px;\" class=\"param-doc-tooltip\" data-tooltip=\"Amplitude parameter\">sigma</p></td>  <td style=\"max-width: 200px; text-align:left;\">1</td>  <td style=\"text-align:left;\">ModelParameter</td>  <td style=\"max-width: 300px;\">(0, inf)</td></tr>\n",
       "\n",
       "  </table>\n",
       " </div>\n",
       "</details>\n"
      ],
      "text/plain": [
       "ExponentialModel(free_only=True, name='ExponentialModel00002', rho=5, sigma=1)"
      ]
     },
     "execution_count": 3,
     "metadata": {},
     "output_type": "execute_result"
    }
   ],
   "source": [
    "model"
   ]
  },
  {
   "cell_type": "code",
   "execution_count": 9,
   "id": "d1c07014-b5c4-4d6b-98d2-2c469ca9b0ab",
   "metadata": {},
   "outputs": [
    {
     "name": "stdout",
     "output_type": "stream",
     "text": [
      "128 0.004572360515594482\n",
      "256 0.01462679386138916\n",
      "512 0.054828243255615236\n",
      "1024 0.2598279595375061\n"
     ]
    }
   ],
   "source": [
    "from time import time\n",
    "\n",
    "if DEVICE == \"cpu\":\n",
    "    grid_sizes = [128, 256, 512, 1024]\n",
    "elif DEVICE == \"gpu\":\n",
    "    grid_sizes = [128, 256, 512, 1024, 2048, 4096]\n",
    "\n",
    "results = []\n",
    "\n",
    "for grid_size in grid_sizes:\n",
    "    times = []\n",
    "    grid = RectangularGrid((grid_size, grid_size))\n",
    "    sampler = SamplerOnRectangularGrid(model, grid)\n",
    "    sampler.n_sims = 1\n",
    "    expected_periodogram = ExpectedPeriodogram(grid, periodogram)\n",
    "    debiased_whittle = DebiasedWhittle(periodogram, expected_periodogram)\n",
    "\n",
    "    for i in range(100):\n",
    "        z = sampler()\n",
    "        t_start = time()\n",
    "        debiased_whittle(z, model)\n",
    "        t_end = time()\n",
    "        times.append(t_end - t_start)\n",
    "    print(grid_size, xp.mean(xp.array(times)))\n",
    "    results.append(times)"
   ]
  },
  {
   "cell_type": "code",
   "execution_count": 10,
   "id": "843764ab-55e8-4a45-9e2b-eac2bbceead2",
   "metadata": {},
   "outputs": [],
   "source": [
    "import numpy as np\n",
    "\n",
    "np.save(f\"times{DEVICE}.npy\", results)"
   ]
  },
  {
   "cell_type": "code",
   "execution_count": 11,
   "id": "06c1d389-0c41-49e3-b48c-5f71cbdffa54",
   "metadata": {},
   "outputs": [
    {
     "name": "stdout",
     "output_type": "stream",
     "text": [
      "No file found for gpu times\n"
     ]
    },
    {
     "data": {
      "image/png": "[encoded data removed]",
      "text/plain": [
       "<Figure size 640x480 with 1 Axes>"
      ]
     },
     "metadata": {},
     "output_type": "display_data"
    }
   ],
   "source": [
    "%matplotlib inline\n",
    "\n",
    "plt.figure()\n",
    "\n",
    "try:\n",
    "    results_cpu = np.load(\"timescpu.npy\")\n",
    "    plt.loglog(\n",
    "        np.power([128, 256, 512, 1024], 2),\n",
    "        (np.mean(np.array(results_cpu), -1)),\n",
    "        \"-^\",\n",
    "        label=\"cpu\",\n",
    "        linewidth=3,\n",
    "        markersize=10,\n",
    "    )\n",
    "except FileNotFoundError as e:\n",
    "    print(\"No file found for cpu times\")\n",
    "\n",
    "try:\n",
    "    results_gpu = np.load(\"timesgpu.npy\")\n",
    "    plt.loglog(\n",
    "        np.power([128, 256, 512, 1024, 2048, 4096], 2),\n",
    "        (np.mean(np.array(results_gpu), -1)),\n",
    "        \"-o\",\n",
    "        label=\"gpu\",\n",
    "        linewidth=3,\n",
    "        markersize=10,\n",
    "    )\n",
    "except FileNotFoundError as e:\n",
    "    print(\"No file found for gpu times\")\n",
    "\n",
    "plt.xlabel(\"number of observations\")\n",
    "plt.ylabel(\"average computational time (s)\")\n",
    "plt.legend()\n",
    "plt.savefig(\"times.jpg\", dpi=600)"
   ]
  },
  {
   "cell_type": "code",
   "execution_count": null,
   "id": "59df7ba6-4bb0-4e0d-a45e-5b5028e1cb06",
   "metadata": {},
   "outputs": [],
   "source": []
  }
 ],
 "metadata": {
  "kernelspec": {
   "display_name": "DebiasedWhittle",
   "language": "python",
   "name": "debiasedwhittle"
  },
  "language_info": {
   "codemirror_mode": {
    "name": "ipython",
    "version": 3
   },
   "file_extension": ".py",
   "mimetype": "text/x-python",
   "name": "python",
   "nbconvert_exporter": "python",
   "pygments_lexer": "ipython3",
   "version": "3.10.12"
  }
 },
 "nbformat": 4,
 "nbformat_minor": 5
}
