{
 "cells": [
  {
   "cell_type": "code",
   "execution_count": 1,
   "id": "14be0656",
   "metadata": {},
   "outputs": [
    {
     "data": {
      "text/latex": [
       "$\\displaystyle 3 x^{2} + 4 y + \\sin{\\left(z \\right)}$"
      ],
      "text/plain": [
       "3*x**2 + 4*y + sin(z)"
      ]
     },
     "execution_count": 1,
     "metadata": {},
     "output_type": "execute_result"
    }
   ],
   "source": [
    "from sympy import symbols, diff, sin\n",
    "x, y, z = symbols('x y z', real=True)\n",
    "f = 4*x*y + x*sin(z) + x**3 + z**8*y\n",
    "diff(f, x)"
   ]
  },
  {
   "cell_type": "markdown",
   "id": "d6a3fabe",
   "metadata": {},
   "source": [
    "### Exponential model:"
   ]
  },
  {
   "cell_type": "code",
   "execution_count": 23,
   "id": "0e54bcf5",
   "metadata": {},
   "outputs": [
    {
     "data": {
      "text/latex": [
       "$\\displaystyle \\frac{d \\sigma^{2} e^{- \\frac{d}{\\rho}}}{\\rho^{2}}$"
      ],
      "text/plain": [
       "d*sigma**2*exp(-d/rho)/rho**2"
      ]
     },
     "metadata": {},
     "output_type": "display_data"
    },
    {
     "data": {
      "text/latex": [
       "$\\displaystyle 2 \\sigma e^{- \\frac{d}{\\rho}}$"
      ],
      "text/plain": [
       "2*sigma*exp(-d/rho)"
      ]
     },
     "metadata": {},
     "output_type": "display_data"
    }
   ],
   "source": [
    "from sympy import exp\n",
    "import sympy\n",
    "from sympy.vector import CoordSys3D\n",
    "\n",
    "rho, sigma, x1, x2, d = symbols('rho sigma x_1 x_2 d', real=True)\n",
    "\n",
    "C = CoordSys3D('C')\n",
    "v = x1*C.i + x2*C.j\n",
    "dist = sympy.sqrt(v.dot(v))\n",
    "\n",
    "exp_model = sigma**2 * exp(-d / rho)\n",
    "d_rho = diff(exp_model, rho)\n",
    "d_sigma = diff(exp_model, sigma)\n",
    "\n",
    "display( d_rho , d_sigma )"
   ]
  },
  {
   "cell_type": "markdown",
   "id": "cf33316b",
   "metadata": {},
   "source": [
    "#### Re-parameterized"
   ]
  },
  {
   "cell_type": "code",
   "execution_count": 28,
   "id": "5ffa860c",
   "metadata": {},
   "outputs": [
    {
     "data": {
      "text/latex": [
       "$\\displaystyle d e^{- \\ell} e^{2 r} e^{- d e^{- \\ell}}$"
      ],
      "text/plain": [
       "d*exp(-ell)*exp(2*r)*exp(-d*exp(-ell))"
      ]
     },
     "metadata": {},
     "output_type": "display_data"
    },
    {
     "data": {
      "text/latex": [
       "$\\displaystyle 2 e^{2 r} e^{- d e^{- \\ell}}$"
      ],
      "text/plain": [
       "2*exp(2*r)*exp(-d*exp(-ell))"
      ]
     },
     "metadata": {},
     "output_type": "display_data"
    }
   ],
   "source": [
    "r, l =  symbols('r ell', real=True)\n",
    "reparam_expmodel = exp(r)**2 * exp(- d / exp(l) ) \n",
    "\n",
    "d_l = diff(reparam_expmodel, l)\n",
    "d_r = diff(reparam_expmodel, r)\n",
    "display( d_l, d_r )"
   ]
  },
  {
   "cell_type": "markdown",
   "id": "8c7ea1b2",
   "metadata": {},
   "source": [
    "### Squared-exponential model:"
   ]
  },
  {
   "cell_type": "code",
   "execution_count": 35,
   "id": "7c51a94e",
   "metadata": {},
   "outputs": [
    {
     "data": {
      "text/latex": [
       "$\\displaystyle \\sigma^{2} e^{- \\frac{0.5 d^{2}}{\\rho^{2}}}$"
      ],
      "text/plain": [
       "sigma**2*exp(-0.5*d**2/rho**2)"
      ]
     },
     "metadata": {},
     "output_type": "display_data"
    }
   ],
   "source": [
    "sqexp_model = sigma**2 * exp(- (1/2) * d**2 / rho ** 2 )\n",
    "display( sqexp_model )"
   ]
  },
  {
   "cell_type": "code",
   "execution_count": 36,
   "id": "26719a16",
   "metadata": {},
   "outputs": [
    {
     "data": {
      "text/latex": [
       "$\\displaystyle \\frac{1.0 d^{2} \\sigma^{2} e^{- \\frac{0.5 d^{2}}{\\rho^{2}}}}{\\rho^{3}}$"
      ],
      "text/plain": [
       "1.0*d**2*sigma**2*exp(-0.5*d**2/rho**2)/rho**3"
      ]
     },
     "metadata": {},
     "output_type": "display_data"
    },
    {
     "data": {
      "text/latex": [
       "$\\displaystyle 2 \\sigma e^{- \\frac{0.5 d^{2}}{\\rho^{2}}}$"
      ],
      "text/plain": [
       "2*sigma*exp(-0.5*d**2/rho**2)"
      ]
     },
     "metadata": {},
     "output_type": "display_data"
    }
   ],
   "source": [
    "d_rho_sqexp = diff(sqexp_model, rho)\n",
    "d_sigma_sqexp = diff(sqexp_model, sigma)\n",
    "display( d_rho_sqexp, d_sigma_sqexp  )"
   ]
  },
  {
   "cell_type": "markdown",
   "id": "4e358569",
   "metadata": {},
   "source": [
    "#### Re-parameterized"
   ]
  },
  {
   "cell_type": "code",
   "execution_count": 34,
   "id": "94d8ab5c",
   "metadata": {},
   "outputs": [
    {
     "data": {
      "text/latex": [
       "$\\displaystyle 1.0 d^{2} e^{- 2 \\ell} e^{2 r} e^{- 0.5 d^{2} e^{- 2 \\ell}}$"
      ],
      "text/plain": [
       "1.0*d**2*exp(-2*ell)*exp(2*r)*exp(-0.5*d**2*exp(-2*ell))"
      ]
     },
     "metadata": {},
     "output_type": "display_data"
    },
    {
     "data": {
      "text/latex": [
       "$\\displaystyle 2 e^{2 r} e^{- 0.5 d^{2} e^{- 2 \\ell}}$"
      ],
      "text/plain": [
       "2*exp(2*r)*exp(-0.5*d**2*exp(-2*ell))"
      ]
     },
     "metadata": {},
     "output_type": "display_data"
    }
   ],
   "source": [
    "reparam_sqexp_model = exp(r)**2 * exp(- (1/2) * d**2 / exp(l) ** 2 )\n",
    "# display( reparam_sqexp_model )\n",
    "\n",
    "d_l_sqexp = diff(reparam_sqexp_model, l)\n",
    "d_r_sqexp = diff(reparam_sqexp_model, r)\n",
    "display( d_l_sqexp, d_r_sqexp )\n",
    "\n"
   ]
  },
  {
   "cell_type": "code",
   "execution_count": null,
   "id": "86a80b82",
   "metadata": {},
   "outputs": [],
   "source": []
  },
  {
   "cell_type": "code",
   "execution_count": null,
   "id": "f43b85dd",
   "metadata": {},
   "outputs": [],
   "source": []
  },
  {
   "cell_type": "code",
   "execution_count": 4,
   "id": "4ae443f6",
   "metadata": {},
   "outputs": [
    {
     "data": {
      "text/latex": [
       "$\\displaystyle 2 e^{2 r} e^{- d e^{- \\ell}}$"
      ],
      "text/plain": [
       "2*exp(2*r)*exp(-d*exp(-ell))"
      ]
     },
     "execution_count": 4,
     "metadata": {},
     "output_type": "execute_result"
    }
   ],
   "source": [
    "diff(reparam_expmodel, r)"
   ]
  },
  {
   "cell_type": "code",
   "execution_count": 5,
   "id": "5ff2824d",
   "metadata": {},
   "outputs": [],
   "source": [
    "display()"
   ]
  },
  {
   "cell_type": "code",
   "execution_count": 27,
   "id": "9d1f6acb",
   "metadata": {},
   "outputs": [],
   "source": [
    "from sympy import pprint"
   ]
  },
  {
   "cell_type": "code",
   "execution_count": 14,
   "id": "92a8ba65",
   "metadata": {},
   "outputs": [],
   "source": [
    "C = np.ones(3)"
   ]
  },
  {
   "cell_type": "code",
   "execution_count": 59,
   "id": "aa4fc0b7",
   "metadata": {},
   "outputs": [
    {
     "data": {
      "text/latex": [
       "$\\displaystyle \\sqrt{x_{1}^{2} + x_{2}^{2}}$"
      ],
      "text/plain": [
       "sqrt(x_1**2 + x_2**2)"
      ]
     },
     "execution_count": 59,
     "metadata": {},
     "output_type": "execute_result"
    }
   ],
   "source": [
    "d = sympy.sqrt(v.dot(v))\n",
    "d"
   ]
  },
  {
   "cell_type": "code",
   "execution_count": 48,
   "id": "d13a7c84",
   "metadata": {},
   "outputs": [
    {
     "data": {
      "text/latex": [
       "$\\displaystyle \\sqrt{x^{2} + y^{2} + z^{2}}$"
      ],
      "text/plain": [
       "sqrt(x**2 + y**2 + z**2)"
      ]
     },
     "execution_count": 48,
     "metadata": {},
     "output_type": "execute_result"
    }
   ],
   "source": [
    "from sympy import Symbol\n",
    "x = Symbol('x')\n",
    "y = Symbol('y')\n",
    "z = Symbol('z')\n",
    "v = x*C.i + y*C.j + z*C.k\n",
    "sympy.sqrt(v.dot(v))"
   ]
  },
  {
   "cell_type": "code",
   "execution_count": 49,
   "id": "c885aea3",
   "metadata": {},
   "outputs": [],
   "source": [
    "\n",
    "x = x1 + x2"
   ]
  },
  {
   "cell_type": "code",
   "execution_count": 50,
   "id": "e5db5bbb",
   "metadata": {},
   "outputs": [
    {
     "data": {
      "text/latex": [
       "$\\displaystyle \\sqrt{x_{1} + x_{2}}$"
      ],
      "text/plain": [
       "sqrt(x_1 + x_2)"
      ]
     },
     "execution_count": 50,
     "metadata": {},
     "output_type": "execute_result"
    }
   ],
   "source": [
    "sympy.sqrt(x)"
   ]
  },
  {
   "cell_type": "code",
   "execution_count": 32,
   "id": "d5e60343",
   "metadata": {},
   "outputs": [
    {
     "data": {
      "text/latex": [
       "$\\displaystyle d$"
      ],
      "text/plain": [
       "d"
      ]
     },
     "metadata": {},
     "output_type": "display_data"
    }
   ],
   "source": [
    "from IPython.display import display\n",
    "\n",
    "\n",
    "display(d)"
   ]
  },
  {
   "cell_type": "code",
   "execution_count": null,
   "id": "c1e4c4b3",
   "metadata": {},
   "outputs": [],
   "source": []
  }
 ],
 "metadata": {
  "kernelspec": {
   "display_name": "Python 3 (ipykernel)",
   "language": "python",
   "name": "python3"
  },
  "language_info": {
   "codemirror_mode": {
    "name": "ipython",
    "version": 3
   },
   "file_extension": ".py",
   "mimetype": "text/x-python",
   "name": "python",
   "nbconvert_exporter": "python",
   "pygments_lexer": "ipython3",
   "version": "3.8.8"
  }
 },
 "nbformat": 4,
 "nbformat_minor": 5
}
